{
 "cells": [
  {
   "cell_type": "code",
   "execution_count": 26,
   "metadata": {},
   "outputs": [],
   "source": [
    "import requests\n",
    "from bs4 import BeautifulSoup\n",
    "\n",
    "import random"
   ]
  },
  {
   "cell_type": "code",
   "execution_count": 27,
   "metadata": {},
   "outputs": [],
   "source": [
    "url = \"https://academia.gal/dicionario\"\n",
    "\n",
    "#TODO-> mostrar las palabras mas buscadas junto con su definicion??\n",
    "\n",
    "pagina_rag = requests.get(url)\n",
    "\n",
    "soup = BeautifulSoup(pagina_rag.content, \"html.parser\")\n"
   ]
  },
  {
   "cell_type": "code",
   "execution_count": 66,
   "metadata": {},
   "outputs": [
    {
     "name": "stdout",
     "output_type": "stream",
     "text": [
      "Palabra: san\n",
      "  * Forma abreviada de santo, que se utiliza diante dos nomes propios que comezan por consoante.\n",
      "  * En estado de boa saúde, libre de enfermidade.\n",
      "Palabra: maña\n",
      "  * Disposición para facer ben e con facilidade unha cousa.\n",
      "Palabra: óso\n",
      "  * Cada un dos órganos duros e sólidos que constitúen o esqueleto do home e dos animais vertebrados.\n",
      "Palabra: ano\n",
      "  * Espazo de tempo que tarda a Terra en dar unha volta enteira arredor do Sol, que dura 365 días, 5 horas, 48 minutos e 46 segundos.\n",
      "  * Orificio situado na parte final do recto.\n",
      "Palabra: óso\n",
      "  * Cada un dos órganos duros e sólidos que constitúen o esqueleto do home e dos animais vertebrados.\n",
      "\n"
     ]
    }
   ],
   "source": [
    "palabras = soup.find_all(class_ = \"dictionary-topsearch__item\")\n",
    "\n",
    "listado_palabras = []\n",
    "\n",
    "for n in palabras:\n",
    "    nombre = n.find(class_ = \"dictionary-topsearch__link\").text\n",
    "    link = n.find(class_ = \"dictionary-topsearch__link\").get(\"href\")\n",
    "    \n",
    "    pagina_def = requests.get(link)\n",
    "    \n",
    "    soup = BeautifulSoup(pagina_def.content, \"html.parser\")\n",
    "    def_pag= soup.find_all(class_ = \"Lemma\")\n",
    "    \n",
    "    listado_definiciones =[]\n",
    "    for d in def_pag:\n",
    "        definicion = [defi.text for defi in d.find(class_ = \"Definition__Definition\")]\n",
    "        listado_definiciones.append(definicion)\n",
    "        \n",
    "    palabra = [nombre,listado_definiciones]\n",
    "    \n",
    "    listado_palabras.append(palabra)\n",
    "\n",
    "indices_muestra = random.sample(range(len(listado_palabras)), 5)\n",
    "\n",
    "mensaje = \"\"\n",
    "for indice in indices_muestra:\n",
    "    palabra = listado_palabras[indice]\n",
    "    mensaje += f\"Palabra: {palabra[0]}\\n\"\n",
    "    for definicion in palabra[1]:\n",
    "        mensaje += f\"  *{''.join(definicion)}\\n\"\n",
    "\n",
    "print(mensaje)"
   ]
  }
 ],
 "metadata": {
  "kernelspec": {
   "display_name": "anemona",
   "language": "python",
   "name": "python3"
  },
  "language_info": {
   "codemirror_mode": {
    "name": "ipython",
    "version": 3
   },
   "file_extension": ".py",
   "mimetype": "text/x-python",
   "name": "python",
   "nbconvert_exporter": "python",
   "pygments_lexer": "ipython3",
   "version": "3.9.18"
  }
 },
 "nbformat": 4,
 "nbformat_minor": 2
}
