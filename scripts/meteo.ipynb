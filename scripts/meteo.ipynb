{
 "cells": [
  {
   "cell_type": "markdown",
   "metadata": {},
   "source": [
    "## Api Meteo ⛅\n",
    "* Informe meteorolóxico para unha localidade predefinida.\n",
    "* Mínimo: temperaturas mínima, máxima e información sobre o ceo/chuvias\n"
   ]
  },
  {
   "cell_type": "code",
   "execution_count": 11,
   "metadata": {},
   "outputs": [],
   "source": [
    "#librerias necesarias para trabajar\n",
    "import requests"
   ]
  },
  {
   "cell_type": "markdown",
   "metadata": {},
   "source": [
    "**idConcello**: Identificador único do concello para o que se está obtendo a predición.\n",
    "**ceo**: Array de elementos numéricos que conteñen os identificadores para representar\n",
    "o estado do ceo en cada unha das tres franxas horarias: mañá, tarde e noite.\n",
    "**nivelAviso**: Valor numérico que representa o nivel máximo de aviso do concello no día considerado.\n",
    "* 0: Normalidade\n",
    "* 1: Amarelo\n",
    "* 2: Laranxa\n",
    "* 3:Vermello \n",
    "\n",
    "**pchoiva**: Array de elementos numéricos que conteñen a porcentaxe de probabilidade\n",
    "de choiva en cada unha das tres franxas horarias: mañá, tarde e noite. \n",
    "**vento**: Array de elementos numéricos que conteñen os identificadores para\n",
    "representar a dirección e intensidade de vento en cada unha das tres franxas horarias: mañá, tarde e noite."
   ]
  },
  {
   "cell_type": "code",
   "execution_count": 12,
   "metadata": {},
   "outputs": [
    {
     "name": "stdout",
     "output_type": "stream",
     "text": [
      "O concello seleccionado é Monfero. Temperatura maxima de hoxe: 16 e temperatura minima de hoxe: 9\n"
     ]
    }
   ],
   "source": [
    "url = \" https://servizos.meteogalicia.gal/mgrss/predicion/jsonPredConcellos.action\"\n",
    "response = requests.get(url,params = {\"idConc\" : 15050})\n",
    "\n",
    "nomeConcello = response.json()[\"predConcello\"][\"nome\"]\n",
    "tMax = response.json()[\"predConcello\"][\"listaPredDiaConcello\"][0][\"tMax\"]\n",
    "tMin = response.json()[\"predConcello\"][\"listaPredDiaConcello\"][0][\"tMin\"]\n",
    "\n",
    "\n",
    "print(f\"O concello seleccionado é {nomeConcello}. Temperatura maxima de hoxe: {tMax}º e a temperatura minima de hoxe: {tMin}º\")\n",
    "\n",
    "#TODO fichero json con los valores de las ciudades  y que compare el numeoro que devuelve con el fichero"
   ]
  }
 ],
 "metadata": {
  "kernelspec": {
   "display_name": "sistemas",
   "language": "python",
   "name": "python3"
  },
  "language_info": {
   "codemirror_mode": {
    "name": "ipython",
    "version": 3
   },
   "file_extension": ".py",
   "mimetype": "text/x-python",
   "name": "python",
   "nbconvert_exporter": "python",
   "pygments_lexer": "ipython3",
   "version": "3.12.1"
  }
 },
 "nbformat": 4,
 "nbformat_minor": 2
}
