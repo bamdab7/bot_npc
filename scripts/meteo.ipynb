{
 "cells": [
  {
   "cell_type": "markdown",
   "metadata": {},
   "source": [
    "## Api Meteo ⛅\n",
    "* Informe meteorolóxico para unha localidade predefinida.\n",
    "* Mínimo: temperaturas mínima, máxima e información sobre o ceo/chuvias\n"
   ]
  },
  {
   "cell_type": "code",
   "execution_count": 70,
   "metadata": {},
   "outputs": [],
   "source": [
    "#librerias necesarias para trabajar\n",
    "# LINK HERE: https://meteo-estaticos.xunta.gal/datosred/infoweb/meteo/docs/rss/JSON_Pred_Concello_gl.pdf\n",
    "import requests\n",
    "import pandas as pd\n",
    "\n",
    "#TODO fichero json con los valores de las ciudades  y que compare el numeoro que devuelve con el fichero"
   ]
  },
  {
   "cell_type": "code",
   "execution_count": 77,
   "metadata": {},
   "outputs": [],
   "source": [
    "ceo_json = pd.read_json(\"./ceo.json\")\n",
    "vento_json = pd.read_json(\"./vento.json\")\n",
    "#valor y estado"
   ]
  },
  {
   "cell_type": "code",
   "execution_count": 78,
   "metadata": {},
   "outputs": [],
   "source": [
    "url = \" https://servizos.meteogalicia.gal/mgrss/predicion/jsonPredConcellos.action\"\n",
    "response = requests.get(url,params = {\"idConc\" : 15050})\n",
    "\n",
    "nomeConcello = response.json()[\"predConcello\"][\"nome\"]\n",
    "tMax = response.json()[\"predConcello\"][\"listaPredDiaConcello\"][0][\"tMax\"]\n",
    "tMin = response.json()[\"predConcello\"][\"listaPredDiaConcello\"][0][\"tMin\"]\n",
    "ceo = response.json()[\"predConcello\"][\"listaPredDiaConcello\"][0][\"ceo\"]\n",
    "vento = response.json()[\"predConcello\"][\"listaPredDiaConcello\"][0][\"vento\"]\n"
   ]
  },
  {
   "cell_type": "code",
   "execution_count": 81,
   "metadata": {},
   "outputs": [],
   "source": [
    "ceo_valor_manha = ceo[\"manha\"]\n",
    "ceo_valor_noite = ceo[\"noite\"]\n",
    "ceo_valor_tarde = ceo[\"tarde\"]\n",
    "\n",
    "vento_valor_manha = vento[\"manha\"]\n",
    "vento_valor_noite = vento[\"noite\"]\n",
    "vento_valor_tarde = vento[\"tarde\"]"
   ]
  },
  {
   "cell_type": "code",
   "execution_count": 82,
   "metadata": {},
   "outputs": [],
   "source": [
    "#Trabajaremos con los valores que nos devuelven los datos de cielo y viento\n",
    "\n",
    "#-----------------------------CEO\n",
    "filtro_manha_ceo = ceo_json['valor'] == ceo_valor_manha\n",
    "estado_manha_ceo = ceo_json.loc[filtro_manha_ceo, 'estado'].values[0]\n",
    "\n",
    "filtro_tarde_ceo = ceo_json['valor'] == ceo_valor_tarde\n",
    "estado_tarde_ceo = ceo_json.loc[filtro_tarde_ceo, 'estado'].values[0]\n",
    "\n",
    "filtro_noite_ceo = ceo_json['valor'] == ceo_valor_noite\n",
    "estado_noite_ceo = ceo_json.loc[filtro_noite_ceo, 'estado'].values[0]\n",
    "\n",
    "#----------------------------VENTO\n",
    "filtro_manha_vento = vento_json['valor'] == vento_valor_manha\n",
    "estado_manha_vento = vento_json.loc[filtro_manha_vento, 'estado'].values[0]\n",
    "\n",
    "filtro_tarde_vento = vento_json['valor'] == vento_valor_tarde\n",
    "estado_tarde_vento = vento_json.loc[filtro_tarde_vento, 'estado'].values[0]\n",
    "\n",
    "filtro_noite_vento = vento_json['valor'] == vento_valor_noite\n",
    "estado_noite_vento = vento_json.loc[filtro_noite_vento, 'estado'].values[0]\n"
   ]
  },
  {
   "cell_type": "code",
   "execution_count": 89,
   "metadata": {},
   "outputs": [
    {
     "name": "stdout",
     "output_type": "stream",
     "text": [
      "O concello seleccionado é Monfero\n",
      "Temperatura maxima de hoxe -> 17º \n",
      "Temperatura minima de hoxe -> 9º\n",
      "Estado do ceo pola maña -> Anubrado 75% \n",
      "Estado do vento pola tarde -> Nubes e claros \n",
      "Estado do vento pola noite -> Nubes altas\n",
      "O vento de Monfero estará pola mañá haberáVento frouxo do Sueste (SE), pola tarde haberá Vento variable e pola noite teremos Vento frouxo do Leste (E)\n"
     ]
    }
   ],
   "source": [
    "print(f\"O concello seleccionado é {nomeConcello}\\nTemperatura maxima de hoxe -> {tMax}º \\nTemperatura minima de hoxe -> {tMin}º\")\n",
    "print(f\"Estado do ceo pola maña -> {estado_manha_ceo} \\nEstado do ceo pola tarde -> {estado_tarde_ceo} \\nEstado do ceo pola noite -> {estado_noite_ceo}\")\n",
    "print(f\"Estado do vento pola maña -> {estado_manha_vento}\\nEstado do vento pola tarde -> á {estado_tarde_vento} e pola noite teremos {estado_noite_vento}\")"
   ]
  }
 ],
 "metadata": {
  "kernelspec": {
   "display_name": "sistemas",
   "language": "python",
   "name": "python3"
  },
  "language_info": {
   "codemirror_mode": {
    "name": "ipython",
    "version": 3
   },
   "file_extension": ".py",
   "mimetype": "text/x-python",
   "name": "python",
   "nbconvert_exporter": "python",
   "pygments_lexer": "ipython3",
   "version": "3.12.1"
  }
 },
 "nbformat": 4,
 "nbformat_minor": 2
}
