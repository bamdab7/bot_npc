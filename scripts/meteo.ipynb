{
 "cells": [
  {
   "cell_type": "markdown",
   "metadata": {},
   "source": [
    "## Api Meteo ⛅\n",
    "* Informe meteorolóxico para unha localidade predefinida.\n",
    "* Mínimo: temperaturas mínima, máxima e información sobre o ceo/chuvias\n"
   ]
  },
  {
   "cell_type": "code",
   "execution_count": 60,
   "metadata": {},
   "outputs": [],
   "source": [
    "#librerias necesarias para trabajar\n",
    "# LINK HERE: https://meteo-estaticos.xunta.gal/datosred/infoweb/meteo/docs/rss/JSON_Pred_Concello_gl.pdf\n",
    "import requests\n",
    "import pandas as pd"
   ]
  },
  {
   "cell_type": "markdown",
   "metadata": {},
   "source": [
    "**idConcello**: Identificador único do concello para o que se está obtendo a predición.\n",
    "**ceo**: Array de elementos numéricos que conteñen os identificadores para representar\n",
    "o estado do ceo en cada unha das tres franxas horarias: mañá, tarde e noite.\n",
    "**nivelAviso**: Valor numérico que representa o nivel máximo de aviso do concello no día considerado.\n",
    "* 0: Normalidade\n",
    "* 1: Amarelo\n",
    "* 2: Laranxa\n",
    "* 3:Vermello \n",
    "\n",
    "**pchoiva**: Array de elementos numéricos que conteñen a porcentaxe de probabilidade\n",
    "de choiva en cada unha das tres franxas horarias: mañá, tarde e noite. \n",
    "**vento**: Array de elementos numéricos que conteñen os identificadores para\n",
    "representar a dirección e intensidade de vento en cada unha das tres franxas horarias: mañá, tarde e noite."
   ]
  },
  {
   "cell_type": "code",
   "execution_count": 61,
   "metadata": {},
   "outputs": [],
   "source": [
    "ceo_json = pd.read_json(\"./ceo.json\")\n",
    "#valor y estado"
   ]
  },
  {
   "cell_type": "code",
   "execution_count": 62,
   "metadata": {},
   "outputs": [],
   "source": [
    "url = \" https://servizos.meteogalicia.gal/mgrss/predicion/jsonPredConcellos.action\"\n",
    "response = requests.get(url,params = {\"idConc\" : 15050})\n",
    "\n",
    "nomeConcello = response.json()[\"predConcello\"][\"nome\"]\n",
    "tMax = response.json()[\"predConcello\"][\"listaPredDiaConcello\"][0][\"tMax\"]\n",
    "tMin = response.json()[\"predConcello\"][\"listaPredDiaConcello\"][0][\"tMin\"]\n",
    "ceo = response.json()[\"predConcello\"][\"listaPredDiaConcello\"][0][\"ceo\"]\n",
    "\n",
    "ceo_valor_manha = ceo[\"manha\"]\n",
    "ceo_valor_noite = ceo[\"noite\"]\n",
    "ceo_valor_tarde = ceo[\"tarde\"]"
   ]
  },
  {
   "cell_type": "code",
   "execution_count": 68,
   "metadata": {},
   "outputs": [],
   "source": [
    "#Trabajaremos con los valores que nos devuelven los datos de cielo y viento\n",
    "filtro_manha = ceo_json['valor'] == ceo_valor_manha\n",
    "estado_manha = ceo_json.loc[filtro_manha, 'estado'].values[0]\n",
    "\n",
    "filtro_tarde = ceo_json['valor'] == ceo_valor_tarde\n",
    "estado_tarde = ceo_json.loc[filtro_tarde, 'estado'].values[0]\n",
    "\n",
    "filtro_noite = ceo_json['valor'] == ceo_valor_noite\n",
    "estado_noite = ceo_json.loc[filtro_noite, 'estado'].values[0]\n"
   ]
  },
  {
   "cell_type": "code",
   "execution_count": 69,
   "metadata": {},
   "outputs": [
    {
     "name": "stdout",
     "output_type": "stream",
     "text": [
      "O concello seleccionado é Monfero\n",
      " Temperatura maxima de hoxe -> 17º \n",
      " Temperatura minima de hoxe -> 9º\n",
      "O ceo de Monfero estará pola mañá Anubrado 75%, pola tarde Nubes e claros e pola noite Nubes altas\n"
     ]
    }
   ],
   "source": [
    "print(f\"O concello seleccionado é {nomeConcello}\\n Temperatura maxima de hoxe -> {tMax}º \\n Temperatura minima de hoxe -> {tMin}º\")\n",
    "print(f\"O ceo de {nomeConcello} estará pola mañá {estado_manha}, pola tarde {estado_tarde} e pola noite {estado_noite}\")\n",
    "#TODO fichero json con los valores de las ciudades  y que compare el numeoro que devuelve con el fichero"
   ]
  }
 ],
 "metadata": {
  "kernelspec": {
   "display_name": "sistemas",
   "language": "python",
   "name": "python3"
  },
  "language_info": {
   "codemirror_mode": {
    "name": "ipython",
    "version": 3
   },
   "file_extension": ".py",
   "mimetype": "text/x-python",
   "name": "python",
   "nbconvert_exporter": "python",
   "pygments_lexer": "ipython3",
   "version": "3.12.1"
  }
 },
 "nbformat": 4,
 "nbformat_minor": 2
}
