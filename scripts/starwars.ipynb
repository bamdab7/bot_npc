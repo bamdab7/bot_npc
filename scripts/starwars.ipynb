{
 "cells": [
  {
   "cell_type": "markdown",
   "metadata": {},
   "source": [
    "## Star Wars\n",
    "* Conectarse a unha API de Star Wars e mostrar informacion sobre personaxes, planetas, especies, peliculas ou vehiculos.\n"
   ]
  },
  {
   "cell_type": "code",
   "execution_count": 48,
   "metadata": {},
   "outputs": [],
   "source": [
    "#imports necesarios\n",
    "import requests "
   ]
  },
  {
   "cell_type": "code",
   "execution_count": 49,
   "metadata": {},
   "outputs": [],
   "source": [
    "# url_people = \"https://swapi.dev/api/people/\"\n",
    "# url_planets = \"https://swapi.dev/api/planets/\"\n",
    "# url_starships = \"https://swapi.dev/api/starships/\"\n",
    "# url_species = \"https://swapi.dev/api/species/\"\n",
    "# url_vehicles = \"https://swapi.dev/api/vehicles/\"\n",
    "# url_films = \"https://swapi.dev/api/films/\""
   ]
  },
  {
   "cell_type": "code",
   "execution_count": 50,
   "metadata": {},
   "outputs": [],
   "source": [
    "id = 2\n",
    "find = \"films\""
   ]
  },
  {
   "cell_type": "code",
   "execution_count": 51,
   "metadata": {},
   "outputs": [],
   "source": [
    "#en funcion del find que salga, mostrar informacion distinta\n",
    "#TODO -> en funcion del find, hacer un if mostrando algunos datos de cada seccion\n",
    "def findin(response):\n",
    "    if find == \"people\":\n",
    "        name = response.json()[\"name\"]\n",
    "        height = response.json()[\"height\"]\n",
    "\n",
    "        url_homeworld = response.json()[\"homeworld\"]\n",
    "        response_homeworld = requests.get(url_homeworld)\n",
    "        homeworld = response_homeworld.json()[\"name\"]\n",
    "\n",
    "        url_movie = response.json()[\"films\"]\n",
    "        list_movie = []\n",
    "        for url in url_movie:\n",
    "            peli = requests.get(url)\n",
    "            movie = peli.json()[\"title\"]\n",
    "            list_movie.append(movie)\n",
    "        print(f\"Name -> {name}\\nHeight -> {height} \\nHomewordl -> {homeworld} \\nAppears in -> {str(list_movie)[1:-1]}\")\n",
    "        \n",
    "    elif find == \"planets\":\n",
    "        name_planet = response.json()[\"name\"]\n",
    "        terrain = response.json()[\"terrain\"]\n",
    "        population = response.json()[\"population\"]\n",
    "        climate = response.json()[\"climate\"]\n",
    "        print(f\"Nome -> {name_planet}\\nTerrain -> {terrain}\\nPopulation -> {population}\\n Climate -> {climate}\")\n",
    "\n",
    "    elif find == \"starships\":\n",
    "        name_vehicle = response.json()[\"name\"]\n",
    "        model_vehicle = response.json()[\"model\"]\n",
    "        manufacturer = response.json()[\"manufacturer\"]\n",
    "        crew = response.json()[\"crew\"]\n",
    "        passengers = response.json()[\"passengers\"]\n",
    "        print(f\"Vehicle name -> {name_vehicle}\\nModel -> {model_vehicle}\\nManufacturer -> {manufacturer}\\nCrew -> {crew} ppl\\nPassengers -> {passengers} ppl\")\n",
    "\n",
    "    elif find == \"species\":\n",
    "        name_specie = response.json()[\"name\"]\n",
    "        classification = response.json()[\"classification\"]\n",
    "\n",
    "        url_homeworld = response.json()[\"homeworld\"]\n",
    "        response_homeworld = requests.get(url_homeworld)\n",
    "        homeworld = response_homeworld.json()[\"name\"]\n",
    "\n",
    "        language = response.json()[\"language\"]\n",
    "\n",
    "        url_people = response.json()[\"people\"]\n",
    "        list_people = []\n",
    "        for url in url_people:\n",
    "            p = requests.get(url)\n",
    "            people = p.json()[\"name\"]\n",
    "            list_people.append(people)\n",
    "        print(f\"Name -> {name_specie}\\nHeight -> {classification}\\nLanguage -> {language}\\nHomewordl -> {homeworld} \\nAppears in -> {str(list_people)[1:-1]}\")\n",
    "    elif find == \"films\":\n",
    "        title = response.json()[\"title\"]\n",
    "        director = response.json()[\"director\"]\n",
    "        opening_crawl = response.json()[\"opening_crawl\"]\n",
    "    else:\n",
    "        print(\"La consulta devuelve valor vacio o se introducen datos erroneos\")\n",
    "#TODO - > a la hora de pasarlo al bot, tener en cuenta los return que sean correctos y a ver como coño metemos metodos bien\n",
    "#TODO -> que el id oscile entre los valores del id de la api, por ejemplo hay 700 personajes pero no hay 700 peliculas, tener en cuenta"
   ]
  },
  {
   "cell_type": "code",
   "execution_count": 52,
   "metadata": {},
   "outputs": [
    {
     "data": {
      "text/plain": [
       "{'title': 'The Empire Strikes Back',\n",
       " 'episode_id': 5,\n",
       " 'opening_crawl': 'It is a dark time for the\\r\\nRebellion. Although the Death\\r\\nStar has been destroyed,\\r\\nImperial troops have driven the\\r\\nRebel forces from their hidden\\r\\nbase and pursued them across\\r\\nthe galaxy.\\r\\n\\r\\nEvading the dreaded Imperial\\r\\nStarfleet, a group of freedom\\r\\nfighters led by Luke Skywalker\\r\\nhas established a new secret\\r\\nbase on the remote ice world\\r\\nof Hoth.\\r\\n\\r\\nThe evil lord Darth Vader,\\r\\nobsessed with finding young\\r\\nSkywalker, has dispatched\\r\\nthousands of remote probes into\\r\\nthe far reaches of space....',\n",
       " 'director': 'Irvin Kershner',\n",
       " 'producer': 'Gary Kurtz, Rick McCallum',\n",
       " 'release_date': '1980-05-17',\n",
       " 'characters': ['https://swapi.dev/api/people/1/',\n",
       "  'https://swapi.dev/api/people/2/',\n",
       "  'https://swapi.dev/api/people/3/',\n",
       "  'https://swapi.dev/api/people/4/',\n",
       "  'https://swapi.dev/api/people/5/',\n",
       "  'https://swapi.dev/api/people/10/',\n",
       "  'https://swapi.dev/api/people/13/',\n",
       "  'https://swapi.dev/api/people/14/',\n",
       "  'https://swapi.dev/api/people/18/',\n",
       "  'https://swapi.dev/api/people/20/',\n",
       "  'https://swapi.dev/api/people/21/',\n",
       "  'https://swapi.dev/api/people/22/',\n",
       "  'https://swapi.dev/api/people/23/',\n",
       "  'https://swapi.dev/api/people/24/',\n",
       "  'https://swapi.dev/api/people/25/',\n",
       "  'https://swapi.dev/api/people/26/'],\n",
       " 'planets': ['https://swapi.dev/api/planets/4/',\n",
       "  'https://swapi.dev/api/planets/5/',\n",
       "  'https://swapi.dev/api/planets/6/',\n",
       "  'https://swapi.dev/api/planets/27/'],\n",
       " 'starships': ['https://swapi.dev/api/starships/3/',\n",
       "  'https://swapi.dev/api/starships/10/',\n",
       "  'https://swapi.dev/api/starships/11/',\n",
       "  'https://swapi.dev/api/starships/12/',\n",
       "  'https://swapi.dev/api/starships/15/',\n",
       "  'https://swapi.dev/api/starships/17/',\n",
       "  'https://swapi.dev/api/starships/21/',\n",
       "  'https://swapi.dev/api/starships/22/',\n",
       "  'https://swapi.dev/api/starships/23/'],\n",
       " 'vehicles': ['https://swapi.dev/api/vehicles/8/',\n",
       "  'https://swapi.dev/api/vehicles/14/',\n",
       "  'https://swapi.dev/api/vehicles/16/',\n",
       "  'https://swapi.dev/api/vehicles/18/',\n",
       "  'https://swapi.dev/api/vehicles/19/',\n",
       "  'https://swapi.dev/api/vehicles/20/'],\n",
       " 'species': ['https://swapi.dev/api/species/1/',\n",
       "  'https://swapi.dev/api/species/2/',\n",
       "  'https://swapi.dev/api/species/3/',\n",
       "  'https://swapi.dev/api/species/6/',\n",
       "  'https://swapi.dev/api/species/7/'],\n",
       " 'created': '2014-12-12T11:26:24.656000Z',\n",
       " 'edited': '2014-12-15T13:07:53.386000Z',\n",
       " 'url': 'https://swapi.dev/api/films/2/'}"
      ]
     },
     "execution_count": 52,
     "metadata": {},
     "output_type": "execute_result"
    }
   ],
   "source": [
    "#endpoinds /people/:id/\n",
    "url = f\"https://swapi.dev/api/{find}/{id}/\"\n",
    "response = requests.get(url)\n",
    "\n",
    "if response.status_code != 200:\n",
    "    print(\"La peticion no es valida\")\n",
    "else:\n",
    "   findin(response) \n",
    "response.json()\n"
   ]
  }
 ],
 "metadata": {
  "kernelspec": {
   "display_name": "sistemas",
   "language": "python",
   "name": "python3"
  },
  "language_info": {
   "codemirror_mode": {
    "name": "ipython",
    "version": 3
   },
   "file_extension": ".py",
   "mimetype": "text/x-python",
   "name": "python",
   "nbconvert_exporter": "python",
   "pygments_lexer": "ipython3",
   "version": "3.12.1"
  }
 },
 "nbformat": 4,
 "nbformat_minor": 2
}
