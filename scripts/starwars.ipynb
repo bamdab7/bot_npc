{
 "cells": [
  {
   "cell_type": "markdown",
   "metadata": {},
   "source": [
    "## Star Wars\n",
    "* Conectarse a unha API de Star Wars e mostrar informacion sobre personaxes, planetas, especies, peliculas ou vehiculos.\n"
   ]
  },
  {
   "cell_type": "code",
   "execution_count": 50,
   "metadata": {},
   "outputs": [],
   "source": [
    "#imports necesarios\n",
    "import requests "
   ]
  },
  {
   "cell_type": "code",
   "execution_count": 51,
   "metadata": {},
   "outputs": [],
   "source": [
    "# url_people = \"https://swapi.dev/api/people/\"\n",
    "# url_planets = \"https://swapi.dev/api/planets/\"\n",
    "# url_starships = \"https://swapi.dev/api/starships/\"\n",
    "# url_species = \"https://swapi.dev/api/species/\"\n",
    "# url_vehicles = \"https://swapi.dev/api/vehicles/\"\n",
    "# url_films = \"https://swapi.dev/api/films/\""
   ]
  },
  {
   "cell_type": "code",
   "execution_count": 52,
   "metadata": {},
   "outputs": [],
   "source": [
    "id = 2\n",
    "find = \"species\""
   ]
  },
  {
   "cell_type": "code",
   "execution_count": 53,
   "metadata": {},
   "outputs": [],
   "source": [
    "#en funcion del find que salga, mostrar informacion distinta\n",
    "#TODO -> en funcion del find, hacer un if mostrando algunos datos de cada seccion\n",
    "def findin(response):\n",
    "    if find == \"people\":\n",
    "        name = response.json()[\"name\"]\n",
    "        height = response.json()[\"height\"]\n",
    "\n",
    "        url_homeworld = response.json()[\"homeworld\"]\n",
    "        response_homeworld = requests.get(url_homeworld)\n",
    "        homeworld = response_homeworld.json()[\"name\"]\n",
    "\n",
    "        url_movie = response.json()[\"films\"]\n",
    "        list_movie = []\n",
    "        for url in url_movie:\n",
    "            peli = requests.get(url)\n",
    "            movie = peli.json()[\"title\"]\n",
    "            list_movie.append(movie)\n",
    "        print(f\"Name -> {name}\\nHeight -> {height} \\nHomewordl -> {homeworld} \\nAppears in -> {str(list_movie)[1:-1]}\")\n",
    "        \n",
    "    elif find == \"planets\":\n",
    "        name_planet = response.json()[\"name\"]\n",
    "        terrain = response.json()[\"terrain\"]\n",
    "        population = response.json()[\"population\"]\n",
    "        climate = response.json()[\"climate\"]\n",
    "        print(f\"Nome -> {name_planet}\\nTerrain -> {terrain}\\nPopulation -> {population}\\n Climate -> {climate}\")\n",
    "\n",
    "    elif find == \"starships\":\n",
    "        name_vehicle = response.json()[\"name\"]\n",
    "        model_vehicle = response.json()[\"model\"]\n",
    "        manufacturer = response.json()[\"manufacturer\"]\n",
    "        crew = response.json()[\"crew\"]\n",
    "        passengers = response.json()[\"passengers\"]\n",
    "        print(f\"Vehicle name -> {name_vehicle}\\nModel -> {model_vehicle}\\nManufacturer -> {manufacturer}\\nCrew -> {crew} ppl\\nPassengers -> {passengers} ppl\")\n",
    "    elif find == \"species\":\n",
    "        pass\n",
    "    #TODO -> hacer que muestre las personas tambien\n",
    "    elif find == \"vehicles\":\n",
    "        pass\n",
    "    elif find == \"films\":\n",
    "        pass\n",
    "    else:\n",
    "        print(\"La consulta devuelve valor vacio o se introducen datos erroneos\")\n",
    "#TODO - > a la hora de pasarlo al bot, tener en cuenta los return que sean correctos y a ver como coño metemos metodos bien"
   ]
  },
  {
   "cell_type": "code",
   "execution_count": 54,
   "metadata": {},
   "outputs": [
    {
     "data": {
      "text/plain": [
       "{'name': 'Droid',\n",
       " 'classification': 'artificial',\n",
       " 'designation': 'sentient',\n",
       " 'average_height': 'n/a',\n",
       " 'skin_colors': 'n/a',\n",
       " 'hair_colors': 'n/a',\n",
       " 'eye_colors': 'n/a',\n",
       " 'average_lifespan': 'indefinite',\n",
       " 'homeworld': None,\n",
       " 'language': 'n/a',\n",
       " 'people': ['https://swapi.dev/api/people/2/',\n",
       "  'https://swapi.dev/api/people/3/',\n",
       "  'https://swapi.dev/api/people/8/',\n",
       "  'https://swapi.dev/api/people/23/'],\n",
       " 'films': ['https://swapi.dev/api/films/1/',\n",
       "  'https://swapi.dev/api/films/2/',\n",
       "  'https://swapi.dev/api/films/3/',\n",
       "  'https://swapi.dev/api/films/4/',\n",
       "  'https://swapi.dev/api/films/5/',\n",
       "  'https://swapi.dev/api/films/6/'],\n",
       " 'created': '2014-12-10T15:16:16.259000Z',\n",
       " 'edited': '2014-12-20T21:36:42.139000Z',\n",
       " 'url': 'https://swapi.dev/api/species/2/'}"
      ]
     },
     "execution_count": 54,
     "metadata": {},
     "output_type": "execute_result"
    }
   ],
   "source": [
    "#endpoinds /people/:id/\n",
    "url = f\"https://swapi.dev/api/{find}/{id}/\"\n",
    "response = requests.get(url)\n",
    "\n",
    "if response.status_code != 200:\n",
    "    print(\"La peticion no es valida\")\n",
    "else:\n",
    "   findin(response) \n",
    "response.json()\n"
   ]
  }
 ],
 "metadata": {
  "kernelspec": {
   "display_name": "sistemas",
   "language": "python",
   "name": "python3"
  },
  "language_info": {
   "codemirror_mode": {
    "name": "ipython",
    "version": 3
   },
   "file_extension": ".py",
   "mimetype": "text/x-python",
   "name": "python",
   "nbconvert_exporter": "python",
   "pygments_lexer": "ipython3",
   "version": "3.12.1"
  }
 },
 "nbformat": 4,
 "nbformat_minor": 2
}
