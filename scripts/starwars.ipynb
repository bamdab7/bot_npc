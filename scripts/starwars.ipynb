{
 "cells": [
  {
   "cell_type": "markdown",
   "metadata": {},
   "source": [
    "## Star Wars\n",
    "* Conectarse a unha API de Star Wars e mostrar informacion sobre personaxes, planetas, especies, peliculas ou vehiculos.\n"
   ]
  },
  {
   "cell_type": "code",
   "execution_count": 1,
   "metadata": {},
   "outputs": [],
   "source": [
    "#imports necesarios\n",
    "import requests "
   ]
  },
  {
   "cell_type": "code",
   "execution_count": 2,
   "metadata": {},
   "outputs": [],
   "source": [
    "# url_people = \"https://swapi.dev/api/people/\"\n",
    "# url_planets = \"https://swapi.dev/api/planets/\"\n",
    "# url_starships = \"https://swapi.dev/api/starships/\"\n",
    "# url_species = \"https://swapi.dev/api/species/\"\n",
    "# url_vehicles = \"https://swapi.dev/api/vehicles/\"\n",
    "# url_films = \"https://swapi.dev/api/films/\""
   ]
  },
  {
   "cell_type": "code",
   "execution_count": 3,
   "metadata": {},
   "outputs": [],
   "source": [
    "id = 1\n",
    "find = \"planets\""
   ]
  },
  {
   "cell_type": "code",
   "execution_count": 4,
   "metadata": {},
   "outputs": [],
   "source": [
    "#en funcion del find que salga, mostrar informacion distinta\n",
    "#TODO -> en funcion del find, hacer un if mostrando algunos datos de cada seccion\n",
    "def findin(response):\n",
    "    if find == \"people\":\n",
    "        name = response.json()[\"name\"]\n",
    "        height = response.json()[\"height\"]\n",
    "\n",
    "        url_homeworld = response.json()[\"homeworld\"]\n",
    "        response_homeworld = requests.get(url_homeworld)\n",
    "        homeworld = response_homeworld.json()[\"name\"]\n",
    "\n",
    "        url_movie = response.json()[\"films\"]\n",
    "        list_movie = []\n",
    "        for url in url_movie:\n",
    "            peli = requests.get(url)\n",
    "            movie = peli.json()[\"title\"]\n",
    "            list_movie.append(movie)\n",
    "        print(f\"Name -> {name}\\nHeight -> {height} \\nHomewordl -> {homeworld} \\nAppears in -> {str(list_movie)[1:-1]}\")\n",
    "        \n",
    "    elif find == \"planets\":\n",
    "        name_planet = response.json()[\"name\"]\n",
    "        terrain = response.json()[\"terrain\"]\n",
    "        population = response.json()[\"population\"]\n",
    "        print(f\"Nome -> {name_planet}\\nTerrain -> {terrain}\\nPopulation -> {population}\")\n",
    "    elif find == \"starships\":\n",
    "        pass\n",
    "    elif find == \"species\":\n",
    "        pass\n",
    "    elif find == \"vehicles\":\n",
    "        pass\n",
    "    elif find == \"films\":\n",
    "        pass\n",
    "    else:\n",
    "        print(\"Introduce datos validos\")"
   ]
  },
  {
   "cell_type": "code",
   "execution_count": 5,
   "metadata": {},
   "outputs": [
    {
     "name": "stdout",
     "output_type": "stream",
     "text": [
      "Nome -> Tatooine\n",
      "Terrain -> desert\n",
      "Population -> 200000\n"
     ]
    },
    {
     "data": {
      "text/plain": [
       "{'name': 'Tatooine',\n",
       " 'rotation_period': '23',\n",
       " 'orbital_period': '304',\n",
       " 'diameter': '10465',\n",
       " 'climate': 'arid',\n",
       " 'gravity': '1 standard',\n",
       " 'terrain': 'desert',\n",
       " 'surface_water': '1',\n",
       " 'population': '200000',\n",
       " 'residents': ['https://swapi.dev/api/people/1/',\n",
       "  'https://swapi.dev/api/people/2/',\n",
       "  'https://swapi.dev/api/people/4/',\n",
       "  'https://swapi.dev/api/people/6/',\n",
       "  'https://swapi.dev/api/people/7/',\n",
       "  'https://swapi.dev/api/people/8/',\n",
       "  'https://swapi.dev/api/people/9/',\n",
       "  'https://swapi.dev/api/people/11/',\n",
       "  'https://swapi.dev/api/people/43/',\n",
       "  'https://swapi.dev/api/people/62/'],\n",
       " 'films': ['https://swapi.dev/api/films/1/',\n",
       "  'https://swapi.dev/api/films/3/',\n",
       "  'https://swapi.dev/api/films/4/',\n",
       "  'https://swapi.dev/api/films/5/',\n",
       "  'https://swapi.dev/api/films/6/'],\n",
       " 'created': '2014-12-09T13:50:49.641000Z',\n",
       " 'edited': '2014-12-20T20:58:18.411000Z',\n",
       " 'url': 'https://swapi.dev/api/planets/1/'}"
      ]
     },
     "execution_count": 5,
     "metadata": {},
     "output_type": "execute_result"
    }
   ],
   "source": [
    "#endpoinds /people/:id/\n",
    "url = f\"https://swapi.dev/api/{find}/{id}/\"\n",
    "response = requests.get(url)\n",
    "\n",
    "if response.status_code != 200:\n",
    "    print(\"La peticion no es valida\")\n",
    "else:\n",
    "   findin(response) \n",
    "response.json()\n"
   ]
  }
 ],
 "metadata": {
  "kernelspec": {
   "display_name": "sistemas",
   "language": "python",
   "name": "python3"
  },
  "language_info": {
   "codemirror_mode": {
    "name": "ipython",
    "version": 3
   },
   "file_extension": ".py",
   "mimetype": "text/x-python",
   "name": "python",
   "nbconvert_exporter": "python",
   "pygments_lexer": "ipython3",
   "version": "3.12.1"
  }
 },
 "nbformat": 4,
 "nbformat_minor": 2
}
