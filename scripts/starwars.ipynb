{
 "cells": [
  {
   "cell_type": "markdown",
   "metadata": {},
   "source": [
    "## Star Wars\n",
    "* Conectarse a unha API de Star Wars e mostrar informacion sobre personaxes, planetas, especies, peliculas ou vehiculos.\n"
   ]
  },
  {
   "cell_type": "code",
   "execution_count": 40,
   "metadata": {},
   "outputs": [],
   "source": [
    "#imports necesarios\n",
    "import requests "
   ]
  },
  {
   "cell_type": "code",
   "execution_count": 41,
   "metadata": {},
   "outputs": [],
   "source": [
    "# url_people = \"https://swapi.dev/api/people/\"\n",
    "# url_planets = \"https://swapi.dev/api/planets/\"\n",
    "# url_starships = \"https://swapi.dev/api/starships/\"\n",
    "# url_species = \"https://swapi.dev/api/species/\"\n",
    "# url_vehicles = \"https://swapi.dev/api/vehicles/\"\n",
    "# url_films = \"https://swapi.dev/api/films/\""
   ]
  },
  {
   "cell_type": "code",
   "execution_count": 42,
   "metadata": {},
   "outputs": [],
   "source": [
    "id = 5\n",
    "find = \"people\""
   ]
  },
  {
   "cell_type": "code",
   "execution_count": 43,
   "metadata": {},
   "outputs": [
    {
     "data": {
      "text/plain": [
       "{'name': 'Leia Organa',\n",
       " 'height': '150',\n",
       " 'mass': '49',\n",
       " 'hair_color': 'brown',\n",
       " 'skin_color': 'light',\n",
       " 'eye_color': 'brown',\n",
       " 'birth_year': '19BBY',\n",
       " 'gender': 'female',\n",
       " 'homeworld': 'https://swapi.dev/api/planets/2/',\n",
       " 'films': ['https://swapi.dev/api/films/1/',\n",
       "  'https://swapi.dev/api/films/2/',\n",
       "  'https://swapi.dev/api/films/3/',\n",
       "  'https://swapi.dev/api/films/6/'],\n",
       " 'species': [],\n",
       " 'vehicles': ['https://swapi.dev/api/vehicles/30/'],\n",
       " 'starships': [],\n",
       " 'created': '2014-12-10T15:20:09.791000Z',\n",
       " 'edited': '2014-12-20T21:17:50.315000Z',\n",
       " 'url': 'https://swapi.dev/api/people/5/'}"
      ]
     },
     "execution_count": 43,
     "metadata": {},
     "output_type": "execute_result"
    }
   ],
   "source": [
    "#endpoinds /people/:id/\n",
    "url = f\"https://swapi.dev/api/{find}/{id}/\"\n",
    "response = requests.get(url)\n",
    "\n",
    "response.json()\n",
    "\n",
    "#TODO -> en funcion del find, hacer un if mostrando algunos datos de cada seccion"
   ]
  },
  {
   "cell_type": "code",
   "execution_count": 44,
   "metadata": {},
   "outputs": [
    {
     "name": "stdout",
     "output_type": "stream",
     "text": [
      "Nome -> Leia Organa\n",
      "Height -> 150 \n",
      "Homewordl -> Alderaan\n"
     ]
    }
   ],
   "source": [
    "#en funcion del find que salga, mostrar informacion distinta\n",
    "if find == \"people\":\n",
    "    name = response.json()[\"name\"]\n",
    "    height = response.json()[\"height\"]\n",
    "\n",
    "    url_homeworld = response.json()[\"homeworld\"]\n",
    "    response_homeworld = requests.get(url_homeworld)\n",
    "    homeworld = response_homeworld.json()[\"name\"]\n",
    "    #TODO -> peliculas iterando en bucle\n",
    "    print(f\"Nome -> {name}\\nHeight -> {height} \\nHomewordl -> {homeworld}\")\n",
    "elif find == \"planets\":\n",
    "    pass\n",
    "elif find == \"starships\":\n",
    "    pass\n",
    "elif find == \"species\":\n",
    "    pass\n",
    "elif find == \"vehicles\":\n",
    "    pass\n",
    "elif find == \"films\":\n",
    "    pass\n",
    "else:\n",
    "    print(\"Introduce datos validos\")"
   ]
  }
 ],
 "metadata": {
  "kernelspec": {
   "display_name": "sistemas",
   "language": "python",
   "name": "python3"
  },
  "language_info": {
   "codemirror_mode": {
    "name": "ipython",
    "version": 3
   },
   "file_extension": ".py",
   "mimetype": "text/x-python",
   "name": "python",
   "nbconvert_exporter": "python",
   "pygments_lexer": "ipython3",
   "version": "3.12.1"
  }
 },
 "nbformat": 4,
 "nbformat_minor": 2
}
