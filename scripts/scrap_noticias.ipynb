{
 "cells": [
  {
   "cell_type": "markdown",
   "metadata": {},
   "source": [
    "O programa recupera, por medio de técnicas de scraping, unha listaxe de titulares actuais dun diario electrónico de elección propia: eldiario.es, lavozdegalicia.es, praza.gal, publico.es, elmundo.es, ... \n",
    "A información mínima que debe presentar é a seguinte:\n",
    "    • Titular\n",
    "    • Enlace a noticia"
   ]
  },
  {
   "cell_type": "code",
   "execution_count": 119,
   "metadata": {},
   "outputs": [],
   "source": [
    "import requests\n",
    "from bs4 import BeautifulSoup\n",
    "#TODO -> elegir dos periodicos para la hora de hacer scraping mostrar un menu con 4 opciones ( los dos periodicos, la cartelera y la opcion a elegir)"
   ]
  },
  {
   "cell_type": "markdown",
   "metadata": {},
   "source": [
    "# LA VOZ DE GALICIA"
   ]
  },
  {
   "cell_type": "code",
   "execution_count": 120,
   "metadata": {},
   "outputs": [],
   "source": [
    "url_voz_galicia = \"https://www.lavozdegalicia.es/coruna/\"\n",
    "\n",
    "pagina_voz_galicia = requests.get(url_voz_galicia)\n",
    "\n",
    "soup = BeautifulSoup(pagina_voz_galicia.content, \"html.parser\")"
   ]
  },
  {
   "cell_type": "code",
   "execution_count": 121,
   "metadata": {},
   "outputs": [
    {
     "data": {
      "text/plain": [
       "[['La niebla sume a Alvedro en el caos: dos vuelos cancelados y cinco desviados a Santiago',\n",
       "  '/noticia/coruna/2024/02/05/niebla-sume-caos-aeropuerto-alvedro-varios-vuelos-cancelados-desviados-santiago/00031707121698874383481.htm'],\n",
       " ['Los testamentos vitales se duplican: «A maioría son mulleres, elas saben o que é coidar no final da vida»',\n",
       "  '/noticia/coruna/coruna/2024/02/02/testamentos-vitales-duplican-corunaspan-langgl-maioria-mulleres-elas-saben-e-coidar-final-da-vidaspan/00031706909770322863802.htm'],\n",
       " ['Antonio Amenedo: «En el cocido lo difícil es desalar, dar con ese punto entre el bien y el mal»',\n",
       "  '/noticia/coruna/2024/02/04/antonio-amenedo-cocido-dificil-desalar-dar-punto-bien-mal/00031707058285149282969.htm'],\n",
       " ['Estas son las 31 laconadas que se pueden comer en A Coruña desde 20 euros',\n",
       "  '/noticia/coruna/coruna/2024/02/05/31-laconadas-pueden-comer-coruna-20-euros/00031707133155478820152.htm'],\n",
       " ['Diez años vigilantes, los controles sobre el dragado se prolongan hasta el 2034',\n",
       "  '/noticia/coruna/2024/01/30/diez-anos-vigilantes-controles-sobre-dragado-prolongan-2034/00031706626644484873333.htm'],\n",
       " ['Esto es lo que cobrará cada concello a partir de ahora por el IBI de la AP-9',\n",
       "  '/noticia/coruna/2024/02/05/ibi-ap-9-dejara-45-millones-ano-21-concellos-provincia/0003_202402H5C3991.htm'],\n",
       " ['Cambre proyecta la remodelación del entorno de la iglesia de Santa María',\n",
       "  '/noticia/coruna/cambre/2024/02/05/cambre-proyecta-remodelacion-entorno-iglesia-santa-maria/0003_202402H5C6991.htm'],\n",
       " ['Carolina Iglesias, contra la gordofobia: «Los primeros insultos que recibí son gorda y fea»',\n",
       "  '/noticia/coruna/vivir-coruna/2024/02/05/carolina-iglesias-alegato-contra-gordofobia-primeros-insultos-recibi-gorda-fea/00031707145868028659862.htm'],\n",
       " ['De la prisión a la vida en libertad: «La gente nos ve como demonios con rabo y cuernos»',\n",
       "  '/noticia/ferrol/2024/02/05/gente-ve-demonios-rabo-cuernos/0003_202402F5C5991.htm'],\n",
       " ['Le fotografían la tarjeta bancaria en el centro educativo y gastan casi 6.200 euros entre varias personas',\n",
       "  '/noticia/coruna/2024/02/04/fotografian-tarjeta-bancaria-centro-educativo-gastan-6200-euros-varias-personas/00031707036928579441926.htm']]"
      ]
     },
     "execution_count": 121,
     "metadata": {},
     "output_type": "execute_result"
    }
   ],
   "source": [
    "#buscar todas las noticias:\n",
    "noticias = soup.find_all(class_ = \"article-min\")\n",
    "\n",
    "listado_noticias = []\n",
    "\n",
    "for n in noticias:\n",
    "    titulo = n.find(\"h4\").text.replace(\"\\n\" , \"\")\n",
    "    enlace = n.find(\"a\").get(\"href\")\n",
    "    notice = [titulo,enlace]\n",
    "    listado_noticias.append(notice)\n",
    "    \n",
    "listado_noticias[:10]"
   ]
  },
  {
   "cell_type": "markdown",
   "metadata": {},
   "source": [
    "# leyma"
   ]
  },
  {
   "cell_type": "code",
   "execution_count": 144,
   "metadata": {},
   "outputs": [],
   "source": [
    "url_leyma = \"https://www.leboro.es/noticias.aspx\"\n",
    "\n",
    "pagina_leyma = requests.get(url_leyma)\n",
    "\n",
    "soup = BeautifulSoup(pagina_leyma.content, \"html.parser\")\n"
   ]
  },
  {
   "cell_type": "code",
   "execution_count": 145,
   "metadata": {},
   "outputs": [
    {
     "data": {
      "text/plain": [
       "[['J.19: Alex Barcello, el MVP de la obsesión blanquivioleta',\n",
       "  'https://www.leboro.es/2024/2/5/baloncesto/j19-alex-barcello-mvp-obsesion-blanquivioleta/97039.aspx'],\n",
       " ['J.19: El quinto periodo, al habla los entrenadores',\n",
       "  'https://www.leboro.es/2024/2/2/baloncesto/j19-quinto-periodo-habla-los-entrenadores/97030.aspx'],\n",
       " ['J.19: Movistar Estudiantes y Leyma Coruña sobreviven a la maldición de la Copa',\n",
       "  'https://www.leboro.es/2024/2/2/baloncesto/j19-movistar-estudiantes-leyma-coruna-sobreviven-maldicion-copa/97029.aspx'],\n",
       " ['J.19: La quiniela de… Millán Jiménez (Longevida San Pablo Burgos)',\n",
       "  'https://www.leboro.es/2024/2/2/baloncesto/j19-quiniela-millan-jimenez-longevida-san-pablo-burgos/97026.aspx'],\n",
       " ['Milan Milovanović presentado en las instalaciones del Hotel Torresport',\n",
       "  'https://www.leboro.es/2024/2/2/baloncesto/milan-milovanović-presentado-las-instalaciones-del-hotel-torresport/97025.aspx'],\n",
       " ['El Longevida San Pablo Burgos presenta a Roko Rogic como nueva pieza del equipo',\n",
       "  'https://www.leboro.es/2024/2/2/baloncesto/longevida-san-pablo-burgos-presenta-roko-rogic-como-nueva-pieza-del-equipo/97024.aspx'],\n",
       " ['PREVIA J.19: Movistar Estudiantes y Leyma Coruña se examinan ante la leyenda de las resacas coperas',\n",
       "  'https://www.leboro.es/2024/2/2/baloncesto/previa-j19-movistar-estudiantes-leyma-coruna-examinan-ante-leyenda-las-resacas-coperas/97019.aspx'],\n",
       " ['Johnny Dee, el dominador infalible de la Copa Princesa de Asturias',\n",
       "  'https://www.leboro.es/2024/2/1/baloncesto/johnny-dee-dominador-infalible-copa-princesa-asturias/97016.aspx'],\n",
       " ['Baloncesto Fuenlabrada: Ganemos al cáncer infantil',\n",
       "  'https://www.leboro.es/2024/2/1/baloncesto/baloncesto-fuenlabrada-ganemos-cancer-infantil/97011.aspx'],\n",
       " ['Primer día de Roko Rogic en el Longevida San Pablo Burgos',\n",
       "  'https://www.leboro.es/2024/2/1/baloncesto/primer-dia-roko-rogic-longevida-san-pablo-burgos/97010.aspx'],\n",
       " ['Joaquín Rodríguez, presentado como Director Deportivo del Cáceres P. Humanidad',\n",
       "  'https://www.leboro.es/2024/2/1/baloncesto/joaquin-rodriguez-presentado-como-director-deportivo-del-caceres-humanidad/97009.aspx'],\n",
       " ['Pedro Rivero, la buena estrella de la Copa Princesa de Asturias',\n",
       "  'https://www.leboro.es/2024/1/31/baloncesto/pedro-rivero-buena-estrella-copa-princesa-asturias/97008.aspx']]"
      ]
     },
     "execution_count": 145,
     "metadata": {},
     "output_type": "execute_result"
    }
   ],
   "source": [
    "#buscar todas las noticias:\n",
    "noticias_L = soup.find_all(class_ = \"titulo\")\n",
    "\n",
    "listado_noticias_L = []\n",
    "\n",
    "for n in noticias_L:\n",
    "    enlace = n.find(\"a\").get(\"href\")\n",
    "    titulo = n.find(\"a\").get(\"title\")\n",
    "    notice = [titulo,enlace]\n",
    "    listado_noticias_L.append(notice)\n",
    "    \n",
    "listado_noticias_L"
   ]
  },
  {
   "cell_type": "code",
   "execution_count": null,
   "metadata": {},
   "outputs": [],
   "source": [
    "\n"
   ]
  }
 ],
 "metadata": {
  "kernelspec": {
   "display_name": "sistemas",
   "language": "python",
   "name": "python3"
  },
  "language_info": {
   "codemirror_mode": {
    "name": "ipython",
    "version": 3
   },
   "file_extension": ".py",
   "mimetype": "text/x-python",
   "name": "python",
   "nbconvert_exporter": "python",
   "pygments_lexer": "ipython3",
   "version": "3.12.1"
  }
 },
 "nbformat": 4,
 "nbformat_minor": 2
}
