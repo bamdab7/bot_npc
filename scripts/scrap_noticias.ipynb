{
 "cells": [
  {
   "cell_type": "markdown",
   "metadata": {},
   "source": [
    "O programa recupera, por medio de técnicas de scraping, unha listaxe de titulares actuais dun diario electrónico de elección propia: eldiario.es, lavozdegalicia.es, praza.gal, publico.es, elmundo.es, ... \n",
    "A información mínima que debe presentar é a seguinte:\n",
    "    • Titular\n",
    "    • Enlace a noticia"
   ]
  },
  {
   "cell_type": "code",
   "execution_count": 1,
   "metadata": {},
   "outputs": [],
   "source": [
    "import requests\n",
    "from bs4 import BeautifulSoup\n",
    "#TODO -> elegir dos periodicos para la hora de hacer scraping mostrar un menu con 4 opciones ( los dos periodicos, la cartelera y la opcion a elegir)"
   ]
  },
  {
   "cell_type": "code",
   "execution_count": 2,
   "metadata": {},
   "outputs": [],
   "source": [
    "url_voz_galicia = \"https://www.lavozdegalicia.es/coruna/\"\n",
    "\n",
    "pagina_voz_galicia = requests.get(url_voz_galicia)\n",
    "\n",
    "soup = BeautifulSoup(pagina_voz_galicia.content, \"html.parser\")"
   ]
  },
  {
   "cell_type": "code",
   "execution_count": 25,
   "metadata": {},
   "outputs": [
    {
     "data": {
      "text/plain": [
       "[['La niebla sume a Alvedro en el caos: dos vuelos cancelados y cinco desviados a Santiago',\n",
       "  '/noticia/coruna/2024/02/05/niebla-sume-caos-aeropuerto-alvedro-varios-vuelos-cancelados-desviados-santiago/00031707121698874383481.htm'],\n",
       " ['Los testamentos vitales se duplican: «A maioría son mulleres, elas saben o que é coidar no final da vida»',\n",
       "  '/noticia/coruna/coruna/2024/02/02/testamentos-vitales-duplican-corunaspan-langgl-maioria-mulleres-elas-saben-e-coidar-final-da-vidaspan/00031706909770322863802.htm'],\n",
       " ['Antonio Amenedo: «En el cocido lo difícil es desalar, dar con ese punto entre el bien y el mal»',\n",
       "  '/noticia/coruna/2024/02/04/antonio-amenedo-cocido-dificil-desalar-dar-punto-bien-mal/00031707058285149282969.htm'],\n",
       " ['Estas son las 31 laconadas que se pueden comer en A Coruña desde 20 euros',\n",
       "  '/noticia/coruna/coruna/2024/02/05/31-laconadas-pueden-comer-coruna-20-euros/00031707133155478820152.htm'],\n",
       " ['Diez años vigilantes, los controles sobre el dragado se prolongan hasta el 2034',\n",
       "  '/noticia/coruna/2024/01/30/diez-anos-vigilantes-controles-sobre-dragado-prolongan-2034/00031706626644484873333.htm'],\n",
       " ['Esto es lo que cobrará cada concello a partir de ahora por el IBI de la AP-9',\n",
       "  '/noticia/coruna/2024/02/05/ibi-ap-9-dejara-45-millones-ano-21-concellos-provincia/0003_202402H5C3991.htm'],\n",
       " ['Cambre proyecta la remodelación del entorno de la iglesia de Santa María',\n",
       "  '/noticia/coruna/cambre/2024/02/05/cambre-proyecta-remodelacion-entorno-iglesia-santa-maria/0003_202402H5C6991.htm'],\n",
       " ['De la prisión a la vida en libertad: «La gente nos ve como demonios con rabo y cuernos»',\n",
       "  '/noticia/ferrol/2024/02/05/gente-ve-demonios-rabo-cuernos/0003_202402F5C5991.htm'],\n",
       " ['Le fotografían la tarjeta bancaria en el centro educativo y gastan casi 6.200 euros entre varias personas',\n",
       "  '/noticia/coruna/2024/02/04/fotografian-tarjeta-bancaria-centro-educativo-gastan-6200-euros-varias-personas/00031707036928579441926.htm'],\n",
       " ['En el interior de los túneles del tren al puerto exterior: «El terreno nos dice lo que necesita y se lo damos»',\n",
       "  '/noticia/coruna/coruna/2024/02/02/interior-tuneles-tren-puerto-exterior-coruna-terreno-dice-necesita-damos/00031706910845980535932.htm']]"
      ]
     },
     "execution_count": 25,
     "metadata": {},
     "output_type": "execute_result"
    }
   ],
   "source": [
    "#buscar todas las noticias:\n",
    "noticias = soup.find_all(class_ = \"article-min\")\n",
    "\n",
    "listado_noticias = []\n",
    "\n",
    "for n in noticias:\n",
    "    titulo = n.find(\"h4\").text.replace(\"\\n\" , \"\")\n",
    "    enlace = n.find(\"a\").get(\"href\")\n",
    "    notice = [titulo,enlace]\n",
    "    listado_noticias.append(notice)\n",
    "    \n",
    "listado_noticias[:10]"
   ]
  }
 ],
 "metadata": {
  "kernelspec": {
   "display_name": "sistemas",
   "language": "python",
   "name": "python3"
  },
  "language_info": {
   "codemirror_mode": {
    "name": "ipython",
    "version": 3
   },
   "file_extension": ".py",
   "mimetype": "text/x-python",
   "name": "python",
   "nbconvert_exporter": "python",
   "pygments_lexer": "ipython3",
   "version": "3.12.1"
  }
 },
 "nbformat": 4,
 "nbformat_minor": 2
}
